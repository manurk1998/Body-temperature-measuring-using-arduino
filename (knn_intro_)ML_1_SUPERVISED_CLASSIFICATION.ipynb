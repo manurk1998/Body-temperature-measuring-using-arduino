{
  "nbformat": 4,
  "nbformat_minor": 0,
  "metadata": {
    "colab": {
      "provenance": [],
      "authorship_tag": "ABX9TyOwFBW24HCmZh0X/qkUwoM1",
      "include_colab_link": true
    },
    "kernelspec": {
      "name": "python3",
      "display_name": "Python 3"
    },
    "language_info": {
      "name": "python"
    }
  },
  "cells": [
    {
      "cell_type": "markdown",
      "metadata": {
        "id": "view-in-github",
        "colab_type": "text"
      },
      "source": [
        "<a href=\"https://colab.research.google.com/github/manurk1998/Body-temperature-measuring-using-arduino/blob/main/(knn_intro_)ML_1_SUPERVISED_CLASSIFICATION.ipynb\" target=\"_parent\"><img src=\"https://colab.research.google.com/assets/colab-badge.svg\" alt=\"Open In Colab\"/></a>"
      ]
    },
    {
      "cell_type": "markdown",
      "source": [
        "# From a set of 5 points p1 p2 p3 p4 hacing c2dimentional coordinates\n",
        "\n",
        "Points      x1      x2              classification\n",
        "\n",
        "P1          7       7                 BAD\n",
        "\n",
        "P2         7        4                 BAD\n",
        "\n",
        "P3         3       4                 GOOD\n",
        "\n",
        "P4         1       4                 GOOD\n"
      ],
      "metadata": {
        "id": "938fwx9DgGUz"
      }
    },
    {
      "cell_type": "markdown",
      "source": [],
      "metadata": {
        "id": "v1CsCDcueLhN"
      }
    },
    {
      "cell_type": "code",
      "source": [
        "from sklearn.neighbors import KNeighborsClassifier\n",
        "x1=[7,7,3,1]\n",
        "x2=[7,4,4,4]\n",
        "target=['Bad','Bad','Good','Good']\n",
        "features=list(zip(x1,x2))\n",
        "features"
      ],
      "metadata": {
        "colab": {
          "base_uri": "https://localhost:8080/"
        },
        "id": "BPSzY1m4eKyR",
        "outputId": "631f3a23-d833-4502-bc1a-20c6b77f733d"
      },
      "execution_count": 1,
      "outputs": [
        {
          "output_type": "execute_result",
          "data": {
            "text/plain": [
              "[(7, 7), (7, 4), (3, 4), (1, 4)]"
            ]
          },
          "metadata": {},
          "execution_count": 1
        }
      ]
    },
    {
      "cell_type": "code",
      "source": [
        "# setting value for \"k\" k= no of nearest neuigbours\n",
        "knn =KNeighborsClassifier(n_neighbors=3)\n"
      ],
      "metadata": {
        "id": "Asc8ZcGqewHM"
      },
      "execution_count": 2,
      "outputs": []
    },
    {
      "cell_type": "code",
      "source": [
        "# FIT FUNCTIN IS USED TO TRAIN SYSTEM\n",
        "knn.fit(features,target)\n",
        "print(knn.predict([[3,7]]))# another point p5(3,7) is given to system to predict it output"
      ],
      "metadata": {
        "colab": {
          "base_uri": "https://localhost:8080/"
        },
        "id": "NlqDOL5-f3Gc",
        "outputId": "da558f4a-9c50-42f1-df70-b549c192e801"
      },
      "execution_count": 3,
      "outputs": [
        {
          "output_type": "stream",
          "name": "stdout",
          "text": [
            "['Good']\n"
          ]
        }
      ]
    },
    {
      "cell_type": "code",
      "source": [],
      "metadata": {
        "id": "4r6IFIQRgDLL"
      },
      "execution_count": null,
      "outputs": []
    }
  ]
}